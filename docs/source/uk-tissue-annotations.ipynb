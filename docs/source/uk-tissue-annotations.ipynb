{
 "cells": [
  {
   "cell_type": "markdown",
   "metadata": {},
   "source": [
    "# UK Tissue Detection\n",
    "Investigate the annotations created by the UK(entucky) group and now stored on an Emory-based instance of the DSA."
   ]
  },
  {
   "cell_type": "code",
   "execution_count": null,
   "metadata": {},
   "outputs": [],
   "source": [
    "# Imports\n",
    "from tqdm.notebook import tqdm\n",
    "import numpy as np\n",
    "from pathlib import Path\n",
    "from ipywidgets import interact, IntSlider\n",
    "import matplotlib.pyplot as plt\n",
    "\n",
    "from dsa_helpers.girder_utils import login\n",
    "from dsa_helpers import imread\n",
    "from dsa_helpers.ml.tiling import semantic_seg_tile_wsi_with_dsa_annotations"
   ]
  },
  {
   "cell_type": "code",
   "execution_count": null,
   "metadata": {},
   "outputs": [],
   "source": [
    "# Constants\n",
    "DSA_API_URL = \"http://bdsa.pathology.emory.edu:8080/api/v1\"\n",
    "DSA_FLD_ID = \"673b566f900c0c0559bf156f\"  # folder with WSI items\n",
    "DSA_DOC_NAME = \"Gray White Segmentation\"\n",
    "WSI_DIR = \"/wsi_archive/UK_Slides\"\n",
    "TILE_DIR = \"/home/jvizcar/data/uk-slides/tiles\"\n",
    "NPROC = 20\n",
    "\n",
    "label2idx = {\n",
    "    \"Gray Matter\": 1,\n",
    "    'White Matter': 2,\n",
    "    'Superficial': 3,\n",
    "    \"Leptomeninges\": 4\n",
    "}\n",
    "\n",
    "color_map = {\n",
    "    1: [0,128,0],\n",
    "    2: [0,0,255],\n",
    "    3: [255,255, 255],\n",
    "    4: [0,0,0]\n",
    "}"
   ]
  },
  {
   "cell_type": "code",
   "execution_count": null,
   "metadata": {},
   "outputs": [],
   "source": [
    "# Authenticate DSA instance.\n",
    "gc = login(DSA_API_URL)"
   ]
  },
  {
   "cell_type": "code",
   "execution_count": null,
   "metadata": {},
   "outputs": [],
   "source": [
    "# Track item metadata.\n",
    "items = []\n",
    "\n",
    "# List the items in the DSA folder.\n",
    "for item in tqdm(list(gc.listItem(DSA_FLD_ID)), desc=\"Getting item metadata...\"):\n",
    "    ann_docs = []  # list of annotation documents of name: \"Gray White Segmentation\"\n",
    "    \n",
    "    for ann_doc in gc.get(f\"annotation/item/{item['_id']}\"):\n",
    "        if ann_doc.get('annotation', {}).get(\"name\") == DSA_DOC_NAME:\n",
    "            ann_docs.append(ann_doc)\n",
    "    \n",
    "    # Include this item only if it has annotation documents.\n",
    "    if len(ann_docs):\n",
    "        item['annotation_documents'] = ann_docs\n",
    "        \n",
    "        items.append(item)\n",
    "        break\n",
    "        \n",
    "print(f\"Found {len(items)} items with annotation documents.\")"
   ]
  },
  {
   "cell_type": "code",
   "execution_count": null,
   "metadata": {},
   "outputs": [],
   "source": [
    "# Get the first item to test.\n",
    "item = items[0]\n",
    "annotation_docs = item[\"annotation_documents\"]\n",
    "wsi_fp = str(Path(WSI_DIR) / f\"{item['name']}\")\n",
    "\n",
    "# Tile image with semantic segmentation labels.\n",
    "semantic_seg_tile_wsi_with_dsa_annotations(\n",
    "    wsi_fp, annotation_docs, label2idx, TILE_DIR, 1024, nproc=NPROC, mag=20\n",
    ")"
   ]
  },
  {
   "cell_type": "code",
   "execution_count": null,
   "metadata": {},
   "outputs": [],
   "source": [
    "# List all the tile images.\n",
    "img_dir = Path(TILE_DIR) / \"images\"\n",
    "fps = list(img_dir.glob(\"*.png\"))\n",
    "\n",
    "def plot_images(idx):\n",
    "    fp = fps[idx]\n",
    "\n",
    "    img = imread(fp)\n",
    "    mask = imread(Path(TILE_DIR) / \"masks\" / fp.name, grayscale=True)\n",
    "    \n",
    "    # Remap the mask to the color map.\n",
    "    mask_rgb = np.zeros(img.shape, dtype=np.uint8)\n",
    "    \n",
    "    for idx, color in color_map.items():\n",
    "        mask_rgb[mask == idx] = color\n",
    "        \n",
    "    # Plot them side by side.\n",
    "    fig, axs = plt.subplots(1, 2, figsize=(15, 15))\n",
    "    axs[0].imshow(img)\n",
    "    axs[1].imshow(mask_rgb)\n",
    "    plt.show()\n",
    "    \n",
    "\n",
    "_ = interact(\n",
    "    plot_images,\n",
    "    idx=IntSlider(min=0, max=len(fps) - 1, step=1, value=0, continuour_update=False)\n",
    ")"
   ]
  }
 ],
 "metadata": {
  "kernelspec": {
   "display_name": "wsi-tissue-detection",
   "language": "python",
   "name": "python3"
  },
  "language_info": {
   "codemirror_mode": {
    "name": "ipython",
    "version": 3
   },
   "file_extension": ".py",
   "mimetype": "text/x-python",
   "name": "python",
   "nbconvert_exporter": "python",
   "pygments_lexer": "ipython3",
   "version": "3.12.7"
  }
 },
 "nbformat": 4,
 "nbformat_minor": 2
}
