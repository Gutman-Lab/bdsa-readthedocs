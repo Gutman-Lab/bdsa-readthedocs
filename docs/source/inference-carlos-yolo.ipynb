{
 "cells": [
  {
   "cell_type": "markdown",
   "metadata": {},
   "source": [
    "# Inference YOLO Model Trained by Carlos Candano"
   ]
  },
  {
   "cell_type": "code",
   "execution_count": 1,
   "metadata": {},
   "outputs": [],
   "source": [
    "from ultralytics import YOLO\n",
    "from pathlib import Path\n",
    "from dsa_helpers import imread\n",
    "import matplotlib.pyplot as plt\n",
    "import cv2 as cv"
   ]
  },
  {
   "cell_type": "code",
   "execution_count": 14,
   "metadata": {},
   "outputs": [],
   "source": [
    "# Load pre-trained weights.\n",
    "model = YOLO(\"best.pt\")\n",
    "model = YOLO(\"/home/jvizcar/data/nft-yolo-detection/models/yolo11n_test1/weights/best.pt\")"
   ]
  },
  {
   "cell_type": "code",
   "execution_count": 11,
   "metadata": {},
   "outputs": [],
   "source": [
    "# List all the image files in the directory.\n",
    "image_fps = [str(fp) for fp in Path(\"/home/jvizcar/data/yolo-test-images\").glob(\"*.png\")]\n",
    "image_fps = [str(fp) for fp in Path(\"/home/jvizcar/data/nft-yolo-detection/tiles/images/\").glob(\"*.png\")]"
   ]
  },
  {
   "cell_type": "code",
   "execution_count": null,
   "metadata": {},
   "outputs": [],
   "source": [
    "# Read an image.\n",
    "image_fp = image_fps[0]\n",
    "img = imread(image_fp)\n",
    "\n",
    "# Conver to BGR.\n",
    "brg_img = cv.cvtColor(img, cv.COLOR_RGB2BGR)\n",
    "plt.imshow(img)"
   ]
  },
  {
   "cell_type": "code",
   "execution_count": null,
   "metadata": {},
   "outputs": [],
   "source": [
    "# Run batched inference on a list of images\n",
    "results = model(brg_img, imgsz=1280, conf=0.4)  # return a generator of Results objects"
   ]
  },
  {
   "cell_type": "code",
   "execution_count": null,
   "metadata": {},
   "outputs": [],
   "source": [
    "result = results[0]\n",
    "\n",
    "vis_img = img.copy()\n",
    "\n",
    "for box in result.boxes:\n",
    "    label = int(box.cls.cpu().numpy()[0])\n",
    "    x1, y1, x2, y2 = box.xyxy.cpu().numpy().astype(int)[0]\n",
    "        \n",
    "    color = (255, 0, 0) if label else (0, 0, 255)\n",
    "    \n",
    "    vis_img = cv.rectangle(vis_img, (x1, y1), (x2, y2), color, 2)\n",
    "    \n",
    "plt.imshow(vis_img)"
   ]
  }
 ],
 "metadata": {
  "kernelspec": {
   "display_name": "nft-detection-3.12",
   "language": "python",
   "name": "python3"
  },
  "language_info": {
   "codemirror_mode": {
    "name": "ipython",
    "version": 3
   },
   "file_extension": ".py",
   "mimetype": "text/x-python",
   "name": "python",
   "nbconvert_exporter": "python",
   "pygments_lexer": "ipython3",
   "version": "3.12.7"
  }
 },
 "nbformat": 4,
 "nbformat_minor": 2
}
